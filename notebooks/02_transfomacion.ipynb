{
 "cells": [
  {
   "cell_type": "code",
   "execution_count": 13,
   "id": "6350be32",
   "metadata": {},
   "outputs": [],
   "source": [
    "import sys\n",
    "import os\n",
    "sys.path.append(os.path.abspath(\"../\"))  # agrega la raíz del proyecto al path\n"
   ]
  },
  {
   "cell_type": "code",
   "execution_count": 18,
   "id": "c71edafa",
   "metadata": {},
   "outputs": [
    {
     "name": "stdout",
     "output_type": "stream",
     "text": [
      "Index(['conversation_id', 'cliente', 'idioma', 'queue_name', 'weekday',\n",
      "       'date_time', 'offered', 'answered', 'service_level_%_30_sec',\n",
      "       '%_abandon', 'aht', 'talk_(avg)', 'hold_(avg)', 'acw'],\n",
      "      dtype='object')\n"
     ]
    }
   ],
   "source": [
    "from pathlib import Path\n",
    "import pandas as pd\n",
    "\n",
    "# Define la raíz del proyecto de forma dinámica (sube al nivel del proyecto)\n",
    "root_dir = Path().resolve().parent  # ← asume que estás en /notebooks\n",
    "\n",
    "# Construye la ruta relativa a partir de la raíz\n",
    "input_path = root_dir / \"data\" / \"interim\" / \"datos_llamadas.csv\"\n",
    "\n",
    "# Cargar el archivo\n",
    "df_raw = pd.read_csv(input_path)\n",
    "print(df_raw.columns)\n"
   ]
  },
  {
   "cell_type": "code",
   "execution_count": 14,
   "id": "ddb46cc3",
   "metadata": {},
   "outputs": [
    {
     "name": "stdout",
     "output_type": "stream",
     "text": [
      "✅ Dataset procesado guardado en C:\\Users\\gcasc\\proyectos\\proyecto_final\\data\\processed\\llamadas_diarias.csv\n"
     ]
    },
    {
     "data": {
      "text/html": [
       "<div>\n",
       "<style scoped>\n",
       "    .dataframe tbody tr th:only-of-type {\n",
       "        vertical-align: middle;\n",
       "    }\n",
       "\n",
       "    .dataframe tbody tr th {\n",
       "        vertical-align: top;\n",
       "    }\n",
       "\n",
       "    .dataframe thead th {\n",
       "        text-align: right;\n",
       "    }\n",
       "</style>\n",
       "<table border=\"1\" class=\"dataframe\">\n",
       "  <thead>\n",
       "    <tr style=\"text-align: right;\">\n",
       "      <th></th>\n",
       "      <th>date</th>\n",
       "      <th>idioma</th>\n",
       "      <th>y</th>\n",
       "      <th>dayofweek</th>\n",
       "      <th>is_month_end</th>\n",
       "      <th>lag_1</th>\n",
       "      <th>lag_2</th>\n",
       "      <th>lag_3</th>\n",
       "      <th>lag_4</th>\n",
       "      <th>lag_5</th>\n",
       "    </tr>\n",
       "  </thead>\n",
       "  <tbody>\n",
       "    <tr>\n",
       "      <th>46</th>\n",
       "      <td>2024-03-08</td>\n",
       "      <td>DE</td>\n",
       "      <td>21</td>\n",
       "      <td>4</td>\n",
       "      <td>0</td>\n",
       "      <td>39.0</td>\n",
       "      <td>32.0</td>\n",
       "      <td>34.0</td>\n",
       "      <td>16.0</td>\n",
       "      <td>38.0</td>\n",
       "    </tr>\n",
       "    <tr>\n",
       "      <th>56</th>\n",
       "      <td>2024-03-11</td>\n",
       "      <td>DE</td>\n",
       "      <td>35</td>\n",
       "      <td>0</td>\n",
       "      <td>0</td>\n",
       "      <td>21.0</td>\n",
       "      <td>39.0</td>\n",
       "      <td>32.0</td>\n",
       "      <td>34.0</td>\n",
       "      <td>16.0</td>\n",
       "    </tr>\n",
       "    <tr>\n",
       "      <th>67</th>\n",
       "      <td>2024-03-12</td>\n",
       "      <td>DE</td>\n",
       "      <td>49</td>\n",
       "      <td>1</td>\n",
       "      <td>0</td>\n",
       "      <td>35.0</td>\n",
       "      <td>21.0</td>\n",
       "      <td>39.0</td>\n",
       "      <td>32.0</td>\n",
       "      <td>34.0</td>\n",
       "    </tr>\n",
       "    <tr>\n",
       "      <th>76</th>\n",
       "      <td>2024-03-13</td>\n",
       "      <td>DE</td>\n",
       "      <td>49</td>\n",
       "      <td>2</td>\n",
       "      <td>0</td>\n",
       "      <td>49.0</td>\n",
       "      <td>35.0</td>\n",
       "      <td>21.0</td>\n",
       "      <td>39.0</td>\n",
       "      <td>32.0</td>\n",
       "    </tr>\n",
       "    <tr>\n",
       "      <th>84</th>\n",
       "      <td>2024-03-14</td>\n",
       "      <td>DE</td>\n",
       "      <td>39</td>\n",
       "      <td>3</td>\n",
       "      <td>0</td>\n",
       "      <td>49.0</td>\n",
       "      <td>49.0</td>\n",
       "      <td>35.0</td>\n",
       "      <td>21.0</td>\n",
       "      <td>39.0</td>\n",
       "    </tr>\n",
       "  </tbody>\n",
       "</table>\n",
       "</div>"
      ],
      "text/plain": [
       "         date idioma   y  dayofweek  is_month_end  lag_1  lag_2  lag_3  lag_4  \\\n",
       "46 2024-03-08     DE  21          4             0   39.0   32.0   34.0   16.0   \n",
       "56 2024-03-11     DE  35          0             0   21.0   39.0   32.0   34.0   \n",
       "67 2024-03-12     DE  49          1             0   35.0   21.0   39.0   32.0   \n",
       "76 2024-03-13     DE  49          2             0   49.0   35.0   21.0   39.0   \n",
       "84 2024-03-14     DE  39          3             0   49.0   49.0   35.0   21.0   \n",
       "\n",
       "    lag_5  \n",
       "46   38.0  \n",
       "56   16.0  \n",
       "67   34.0  \n",
       "76   32.0  \n",
       "84   39.0  "
      ]
     },
     "execution_count": 14,
     "metadata": {},
     "output_type": "execute_result"
    }
   ],
   "source": [
    "from src.etl.transform_calls import procesar_llamadas\n",
    "\n",
    "df = procesar_llamadas()\n",
    "df.head()\n"
   ]
  },
  {
   "cell_type": "code",
   "execution_count": 19,
   "id": "7f0b438f",
   "metadata": {},
   "outputs": [
    {
     "name": "stdout",
     "output_type": "stream",
     "text": [
      "✅ Dataset procesado guardado en C:\\Users\\gcasc\\proyectos\\proyecto_final\\data\\processed\\llamadas_diarias.csv\n"
     ]
    },
    {
     "data": {
      "text/plain": [
       "Index(['date', 'idioma', 'y', 'dayofweek', 'is_month_end', 'lag_1', 'lag_2',\n",
       "       'lag_3', 'lag_4', 'lag_5'],\n",
       "      dtype='object')"
      ]
     },
     "execution_count": 19,
     "metadata": {},
     "output_type": "execute_result"
    }
   ],
   "source": [
    "from src.etl.transform_calls import procesar_llamadas\n",
    "\n",
    "df = procesar_llamadas()\n",
    "df.columns\n"
   ]
  },
  {
   "cell_type": "code",
   "execution_count": 17,
   "id": "1a45d762",
   "metadata": {},
   "outputs": [
    {
     "name": "stdout",
     "output_type": "stream",
     "text": [
      "Index(['conversation_id', 'cliente', 'idioma', 'queue_name', 'weekday',\n",
      "       'date_time', 'offered', 'answered', 'service_level_%_30_sec',\n",
      "       '%_abandon', 'aht', 'talk_(avg)', 'hold_(avg)', 'acw'],\n",
      "      dtype='object')\n"
     ]
    }
   ],
   "source": [
    "df_raw = pd.read_csv(\"C:/Users/gcasc/proyectos/proyecto_final/data/interim/datos_llamadas.csv\")\n",
    "print(df_raw.columns)\n"
   ]
  },
  {
   "cell_type": "code",
   "execution_count": 21,
   "id": "2ba7c5a3",
   "metadata": {},
   "outputs": [
    {
     "name": "stdout",
     "output_type": "stream",
     "text": [
      "✅ Dataset procesado guardado en C:\\Users\\gcasc\\proyectos\\proyecto_final\\data\\processed\\llamadas_diarias.csv\n",
      "Index(['date', 'idioma', 'y', 'dayofweek', 'is_month_end', 'lag_1', 'lag_2',\n",
      "       'lag_3', 'lag_4', 'lag_5'],\n",
      "      dtype='object')\n"
     ]
    }
   ],
   "source": [
    "from src.etl.transform_calls import procesar_llamadas\n",
    "\n",
    "df = procesar_llamadas()\n",
    "print(df.columns)\n"
   ]
  },
  {
   "cell_type": "code",
   "execution_count": 24,
   "id": "4a8ed5a3",
   "metadata": {},
   "outputs": [],
   "source": [
    "import pandas as pd\n",
    "import os\n",
    "from pathlib import Path\n",
    "\n",
    "def procesar_llamadas():\n",
    "    # Asume que el notebook está en /notebooks y sube a raíz del proyecto\n",
    "    root_dir = Path().resolve().parent\n",
    "\n",
    "    input_path = root_dir / \"data\" / \"interim\" / \"datos_llamadas.csv\"\n",
    "    output_path = root_dir / \"data\" / \"processed\" / \"llamadas_diarias.csv\"\n",
    "\n",
    "    df = pd.read_csv(input_path)\n",
    "    df.columns = [c.lower().strip().replace(\" \", \"_\").replace(\"/\", \"_\") for c in df.columns]\n",
    "\n",
    "    print(\"🔍 Columnas después de renombrar:\")\n",
    "    print(df.columns)\n",
    "\n",
    "    if \"cliente\" not in df.columns:\n",
    "        raise ValueError(\"❌ La columna 'cliente' no se encuentra en el DataFrame.\")\n",
    "\n",
    "    df[\"date\"] = pd.to_datetime(df[\"date_time\"]).dt.date\n",
    "\n",
    "    print(\"🔁 Mostrando ejemplo antes de agrupar:\")\n",
    "    print(df[[\"date\", \"cliente\", \"idioma\", \"offered\"]].head())\n",
    "\n",
    "    df_grouped = (\n",
    "        df.groupby([\"date\", \"cliente\", \"idioma\"])\n",
    "        .agg({\"offered\": \"sum\"})\n",
    "        .reset_index()\n",
    "        .rename(columns={\"offered\": \"y\"})\n",
    "    )\n",
    "\n",
    "    print(\"✅ Después del groupby:\")\n",
    "    print(df_grouped.columns)\n",
    "\n",
    "    df_grouped[\"date\"] = pd.to_datetime(df_grouped[\"date\"])\n",
    "    df_grouped[\"dayofweek\"] = df_grouped[\"date\"].dt.dayofweek\n",
    "    df_grouped[\"is_month_end\"] = df_grouped[\"date\"].dt.is_month_end.astype(int)\n",
    "\n",
    "    df_grouped = df_grouped.sort_values([\"cliente\", \"idioma\", \"date\"])\n",
    "    for lag in [1, 2, 3, 4, 5]:\n",
    "        df_grouped[f\"lag_{lag}\"] = df_grouped.groupby([\"cliente\", \"idioma\"])[\"y\"].shift(lag)\n",
    "\n",
    "    df_grouped.dropna(inplace=True)\n",
    "    output_path.parent.mkdir(parents=True, exist_ok=True)\n",
    "    df_grouped.to_csv(output_path, index=False)\n",
    "\n",
    "    print(f\"✅ Dataset procesado guardado en {output_path}\")\n",
    "    print(\"📦 Columnas finales:\", df_grouped.columns.tolist())\n",
    "\n",
    "    return df_grouped\n"
   ]
  },
  {
   "cell_type": "code",
   "execution_count": 25,
   "id": "899b8c40",
   "metadata": {},
   "outputs": [
    {
     "name": "stdout",
     "output_type": "stream",
     "text": [
      "🔍 Columnas después de renombrar:\n",
      "Index(['conversation_id', 'cliente', 'idioma', 'queue_name', 'weekday',\n",
      "       'date_time', 'offered', 'answered', 'service_level_%_30_sec',\n",
      "       '%_abandon', 'aht', 'talk_(avg)', 'hold_(avg)', 'acw'],\n",
      "      dtype='object')\n",
      "🔁 Mostrando ejemplo antes de agrupar:\n",
      "         date   cliente idioma  offered\n",
      "0  2025-04-04      AMEX     ES        1\n",
      "1  2025-04-01      AMEX     EN        1\n",
      "2  2024-12-05    AIRBNB     ES        1\n",
      "3  2025-02-03      AMEX     EN        1\n",
      "4  2025-03-26  COLUMBUS     IT        1\n",
      "✅ Después del groupby:\n",
      "Index(['date', 'cliente', 'idioma', 'y'], dtype='object')\n",
      "✅ Dataset procesado guardado en C:\\Users\\gcasc\\proyectos\\proyecto_final\\data\\processed\\llamadas_diarias.csv\n",
      "📦 Columnas finales: ['date', 'cliente', 'idioma', 'y', 'dayofweek', 'is_month_end', 'lag_1', 'lag_2', 'lag_3', 'lag_4', 'lag_5']\n"
     ]
    }
   ],
   "source": [
    "df = procesar_llamadas()\n"
   ]
  }
 ],
 "metadata": {
  "kernelspec": {
   "display_name": "proyecto_telefonia",
   "language": "python",
   "name": "python3"
  },
  "language_info": {
   "codemirror_mode": {
    "name": "ipython",
    "version": 3
   },
   "file_extension": ".py",
   "mimetype": "text/x-python",
   "name": "python",
   "nbconvert_exporter": "python",
   "pygments_lexer": "ipython3",
   "version": "3.12.3"
  }
 },
 "nbformat": 4,
 "nbformat_minor": 5
}
