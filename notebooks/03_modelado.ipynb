{
 "cells": [
  {
   "cell_type": "code",
   "execution_count": 25,
   "id": "e4d7dc35",
   "metadata": {},
   "outputs": [
    {
     "name": "stdout",
     "output_type": "stream",
     "text": [
      "✅ Modelo xgb_AMEX_DE.pkl | MAE: 13.82 | RMSE: 17.99 | MAPE: 133.29% | Corte: 2025-03-31\n",
      "✅ Modelo xgb_AMEX_EN.pkl | MAE: 44.26 | RMSE: 60.36 | MAPE: 111.26% | Corte: 2025-03-31\n",
      "✅ Modelo xgb_AMEX_ES.pkl | MAE: 7.82 | RMSE: 9.30 | MAPE: 33.79% | Corte: 2025-03-31\n",
      "✅ Modelo xgb_AMEX_FR.pkl | MAE: 24.37 | RMSE: 43.87 | MAPE: 32.70% | Corte: 2025-03-31\n",
      "✅ Modelo xgb_AMEX_IT.pkl | MAE: 24.45 | RMSE: 31.57 | MAPE: 45.25% | Corte: 2025-03-31\n",
      "✅ Modelo xgb_AMEX_NL.pkl | MAE: 12.49 | RMSE: 16.74 | MAPE: 50.49% | Corte: 2025-03-31\n",
      "⚠️ Sin datos para cliente ['AMEX'] e idioma PT\n",
      "✅ Modelo xgb_AMEX_FI.pkl | MAE: 3.12 | RMSE: 3.64 | MAPE: 127.91% | Corte: 2025-03-30\n",
      "✅ Modelo xgb_AMEX_NO.pkl | MAE: 2.48 | RMSE: 3.02 | MAPE: 80.56% | Corte: 2025-03-31\n",
      "⚠️ No hay suficientes datos para ['AMEX'] - Other\n",
      "⚠️ No hay suficientes datos para ['AMEX'] - PO\n",
      "✅ Modelo xgb_AMEX_SE.pkl | MAE: 12.72 | RMSE: 15.87 | MAPE: 97.06% | Corte: 2025-03-31\n",
      "⚠️ Sin datos para cliente ['AMEX'] e idioma DK\n",
      "✅ Modelo xgb_AIRBNB_COLUMBUS_DE.pkl | MAE: 3.13 | RMSE: 4.01 | MAPE: 50.79% | Corte: 2025-03-31\n",
      "✅ Modelo xgb_AIRBNB_COLUMBUS_EN.pkl | MAE: 2.64 | RMSE: 3.22 | MAPE: 55.42% | Corte: 2025-03-31\n",
      "✅ Modelo xgb_AIRBNB_COLUMBUS_ES.pkl | MAE: 3.41 | RMSE: 4.32 | MAPE: 75.49% | Corte: 2025-03-31\n",
      "✅ Modelo xgb_AIRBNB_COLUMBUS_FR.pkl | MAE: 6.79 | RMSE: 10.54 | MAPE: 69.68% | Corte: 2025-03-31\n",
      "✅ Modelo xgb_AIRBNB_COLUMBUS_IT.pkl | MAE: 2.79 | RMSE: 3.58 | MAPE: 66.24% | Corte: 2025-03-31\n",
      "✅ Modelo xgb_AIRBNB_COLUMBUS_NL.pkl | MAE: 2.18 | RMSE: 2.83 | MAPE: 61.62% | Corte: 2025-03-31\n",
      "✅ Modelo xgb_AIRBNB_COLUMBUS_PT.pkl | MAE: 1.09 | RMSE: 1.32 | MAPE: 63.46% | Corte: 2025-03-31\n",
      "⚠️ No hay suficientes datos para ['AIRBNB', 'COLUMBUS'] - FI\n",
      "✅ Modelo xgb_AIRBNB_COLUMBUS_NO.pkl | MAE: 0.86 | RMSE: 0.99 | MAPE: 85.68% | Corte: 2025-03-30\n",
      "⚠️ Sin datos para cliente ['AIRBNB', 'COLUMBUS'] e idioma Other\n",
      "⚠️ No hay suficientes datos para ['AIRBNB', 'COLUMBUS'] - PO\n",
      "✅ Modelo xgb_AIRBNB_COLUMBUS_SE.pkl | MAE: 0.53 | RMSE: 0.59 | MAPE: 41.12% | Corte: 2025-03-31\n",
      "✅ Modelo xgb_AIRBNB_COLUMBUS_DK.pkl | MAE: 1.01 | RMSE: 1.31 | MAPE: 67.37% | Corte: 2025-03-31\n"
     ]
    }
   ],
   "source": [
    "from src.forecast.model_xgboost import entrenar_modelo_por_segmento\n",
    "\n",
    "# AMEX\n",
    "resultados_amex = entrenar_modelo_por_segmento(\n",
    "    df=df,\n",
    "    cliente_alias=[\"AMEX\"],\n",
    "    idiomas=df[\"idioma\"].unique()\n",
    ")\n",
    "\n",
    "# AIRBNB + COLUMBUS\n",
    "resultados_otros = entrenar_modelo_por_segmento(\n",
    "    df=df,\n",
    "    cliente_alias=[\"AIRBNB\", \"COLUMBUS\"],\n",
    "    idiomas=df[\"idioma\"].unique()\n",
    ")"
   ]
  },
  {
   "cell_type": "code",
   "execution_count": 31,
   "id": "a3af2691",
   "metadata": {},
   "outputs": [
    {
     "name": "stdout",
     "output_type": "stream",
     "text": [
      "✅ Modelo xgb_AMEX_EN.pkl | MAE: 44.26 | RMSE: 60.36 | MAPE: 111.26% | Corte: 2025-03-31\n"
     ]
    }
   ],
   "source": [
    "resultados_amex = entrenar_modelo_por_segmento(\n",
    "    df=df,\n",
    "    cliente_alias=[\"AMEX\"],\n",
    "    idiomas=[\"EN\"]  # o todos los que quieras\n",
    ")\n"
   ]
  },
  {
   "cell_type": "code",
   "execution_count": 32,
   "id": "4688ba23",
   "metadata": {},
   "outputs": [
    {
     "name": "stdout",
     "output_type": "stream",
     "text": [
      "🧾 Modelos encontrados:\n"
     ]
    }
   ],
   "source": [
    "from pathlib import Path\n",
    "\n",
    "models_path = Path().resolve().parent / \"models\"  # ← ahora sí debe estar bien\n",
    "print(\"🧾 Modelos encontrados:\")\n",
    "for f in models_path.glob(\"*.pkl\"):\n",
    "    print(\"✅\", f.name)\n"
   ]
  },
  {
   "cell_type": "code",
   "execution_count": 33,
   "id": "263e10aa",
   "metadata": {},
   "outputs": [],
   "source": [
    "from pathlib import Path\n",
    "import joblib\n",
    "\n",
    "modelo_path = Path().resolve() / \"models\" / \"xgb_AMEX_EN.pkl\"\n",
    "modelo = joblib.load(modelo_path)\n"
   ]
  },
  {
   "cell_type": "code",
   "execution_count": 34,
   "id": "f4629547",
   "metadata": {},
   "outputs": [
    {
     "name": "stdout",
     "output_type": "stream",
     "text": [
      "📦 Modelos disponibles:\n",
      "✅ xgb_AMEX_EN.pkl\n"
     ]
    }
   ],
   "source": [
    "from pathlib import Path\n",
    "\n",
    "models_path = Path().resolve() / \"models\"\n",
    "print(\"📦 Modelos disponibles:\")\n",
    "for f in models_path.glob(\"*.pkl\"):\n",
    "    print(\"✅\", f.name)\n"
   ]
  },
  {
   "cell_type": "code",
   "execution_count": 27,
   "id": "0bd0f54b",
   "metadata": {},
   "outputs": [
    {
     "name": "stdout",
     "output_type": "stream",
     "text": [
      "✅ Métricas guardadas en C:\\Users\\gcasc\\proyectos\\proyecto_final\\data\\processed\\metricas_modelo.csv\n"
     ]
    }
   ],
   "source": [
    "import pandas as pd\n",
    "from pathlib import Path\n",
    "\n",
    "# Unir métricas\n",
    "df_metricas = pd.concat([resultados_amex, resultados_otros], ignore_index=True)\n",
    "\n",
    "# Guardar\n",
    "root_dir = Path().resolve().parent\n",
    "metricas_path = root_dir / \"data\" / \"processed\" / \"metricas_modelo.csv\"\n",
    "metricas_path.parent.mkdir(parents=True, exist_ok=True)\n",
    "df_metricas.to_csv(metricas_path, index=False)\n",
    "\n",
    "print(f\"✅ Métricas guardadas en {metricas_path}\")\n"
   ]
  },
  {
   "cell_type": "code",
   "execution_count": 49,
   "id": "41a7b532",
   "metadata": {},
   "outputs": [
    {
     "name": "stdout",
     "output_type": "stream",
     "text": [
      "   idioma   MAE  RMSE  MAPE (%)\n",
      "8      NO  0.11  0.16     62.95\n",
      "9      PO  0.02  0.06     62.16\n",
      "7      DK  0.40  0.53     47.63\n",
      "10     SE  0.29  0.37     46.51\n",
      "4      IT  2.62  3.14     44.28\n",
      "6      PT  0.37  0.50     38.64\n",
      "5      NL  1.12  1.38     30.60\n",
      "2      ES  2.15  2.61     27.01\n",
      "1      EN  1.53  2.02     26.00\n",
      "0      DE  1.59  2.10     25.12\n",
      "3      FR  3.68  5.63     14.57\n"
     ]
    }
   ],
   "source": [
    "import pandas as pd\n",
    "import numpy as np\n",
    "from xgboost import XGBRegressor\n",
    "from sklearn.metrics import mean_absolute_error, mean_squared_error\n",
    "import matplotlib.pyplot as plt\n",
    "\n",
    "# Leer dataset completo\n",
    "df_total = pd.read_csv(\"../data/processed/llamadas_diarias.csv\", parse_dates=[\"date\"])\n",
    "df_total = df_total[df_total[\"cliente\"].isin([\"COLUMBUS\", \"AIRBNB\"])]\n",
    "df_total = df_total[df_total[\"date\"].dt.dayofweek < 5]  # Solo días hábiles\n",
    "\n",
    "# Idiomas disponibles\n",
    "idiomas = df_total[\"idioma\"].unique()\n",
    "\n",
    "# Lista para métricas por idioma\n",
    "metricas = []\n",
    "\n",
    "# Loop por idioma\n",
    "for idioma in idiomas:\n",
    "    df_idioma = df_total[df_total[\"idioma\"] == idioma].copy()\n",
    "    \n",
    "    # Crear serie temporal\n",
    "    serie = df_idioma.set_index(\"date\")[\"y\"].resample(\"D\").sum().fillna(0)\n",
    "    \n",
    "    # Suavizado simple (media móvil 3 días centrada)\n",
    "    serie_suavizada = serie.rolling(window=3, center=True).mean().dropna()\n",
    "\n",
    "    # 1. Dataset base\n",
    "    serie_ultimos_3m = serie_suavizada[serie_suavizada.index >= '2025-01-01']\n",
    "    df_features = serie_ultimos_3m.reset_index()\n",
    "    df_features.columns = ['date', 'y']\n",
    "    df_features['dayofweek'] = df_features['date'].dt.dayofweek\n",
    "    df_features['is_month_end'] = df_features['date'].dt.is_month_end.astype(int)\n",
    "\n",
    "    # 2. Crear lags\n",
    "    for lag in [1, 2, 3, 4, 5]:\n",
    "        df_features[f'lag_{lag}'] = df_features['y'].shift(lag)\n",
    "\n",
    "    df_features.dropna(inplace=True)\n",
    "    df_features.set_index('date', inplace=True)\n",
    "\n",
    "    # 3. Split\n",
    "    X = df_features.drop(columns='y')\n",
    "    y = df_features['y']\n",
    "    X_train = X[X.index <= '2025-03-31']\n",
    "    y_train = y[y.index <= '2025-03-31']\n",
    "    X_test = X[(X.index >= '2025-04-01') & (X.index <= '2025-04-30')]\n",
    "    y_test = y[(y.index >= '2025-04-01') & (y.index <= '2025-04-30')]\n",
    "\n",
    "    if len(X_test) == 0 or len(X_train) == 0:\n",
    "        continue\n",
    "\n",
    "    # 4. Limpieza de outlier específico\n",
    "    fecha_outlier = pd.Timestamp('2025-04-21')\n",
    "    if fecha_outlier in y_test.index:\n",
    "        entorno = y_test.loc['2025-04-16':'2025-04-25'].drop(index=fecha_outlier)\n",
    "        y_test.loc[fecha_outlier] = entorno.mean()\n",
    "\n",
    "    # 5. Modelo\n",
    "    model_xgb = XGBRegressor(n_estimators=50, learning_rate=0.1, random_state=42)\n",
    "    model_xgb.fit(X_train, y_train)\n",
    "\n",
    "    # 6. Predicción y evaluación\n",
    "    pred_xgb = pd.Series(model_xgb.predict(X_test), index=X_test.index)\n",
    "    mae = mean_absolute_error(y_test, pred_xgb)\n",
    "    rmse = np.sqrt(mean_squared_error(y_test, pred_xgb))\n",
    "    mape = np.mean(np.abs((y_test - pred_xgb) / y_test.replace(0, np.nan))) * 100\n",
    "\n",
    "    # 7. IC 95%\n",
    "    residuos = y_test - pred_xgb\n",
    "    std_error = residuos.std()\n",
    "    ci_upper = pred_xgb + 1.96 * std_error\n",
    "    ci_lower = np.clip(pred_xgb - 1.96 * std_error, a_min=0, a_max=None)\n",
    "\n",
    "    # 8. Guardar métricas\n",
    "    metricas.append({\n",
    "        \"idioma\": idioma,\n",
    "        \"MAE\": round(mae, 2),\n",
    "        \"RMSE\": round(rmse, 2),\n",
    "        \"MAPE (%)\": round(mape, 2)\n",
    "    })\n",
    "\n",
    "# Mostrar tabla final\n",
    "df_metricas = pd.DataFrame(metricas).sort_values(by=\"MAPE (%)\", ascending=False)\n",
    "\n",
    "print(df_metricas)\n"
   ]
  },
  {
   "cell_type": "code",
   "execution_count": 50,
   "id": "556223bf",
   "metadata": {},
   "outputs": [],
   "source": [
    "import os\n",
    "\n",
    "# Crear carpeta si no existe\n",
    "output_dir = \"../data/processed/\"\n",
    "os.makedirs(output_dir, exist_ok=True)\n",
    "\n",
    "# Loop nuevamente para guardar predicciones + IC por idioma\n",
    "for idioma in idiomas:\n",
    "    df_idioma = df_total[df_total[\"idioma\"] == idioma].copy()\n",
    "    \n",
    "    # Serie suavizada\n",
    "    serie = df_idioma.set_index(\"date\")[\"y\"].resample(\"D\").sum().fillna(0)\n",
    "    serie_suavizada = serie.rolling(window=3, center=True).mean().dropna()\n",
    "    serie_ultimos_3m = serie_suavizada[serie_suavizada.index >= '2025-01-01']\n",
    "    \n",
    "    df_features = serie_ultimos_3m.reset_index()\n",
    "    df_features.columns = ['date', 'y']\n",
    "    df_features['dayofweek'] = df_features['date'].dt.dayofweek\n",
    "    df_features['is_month_end'] = df_features['date'].dt.is_month_end.astype(int)\n",
    "\n",
    "    for lag in [1, 2, 3, 4, 5]:\n",
    "        df_features[f'lag_{lag}'] = df_features['y'].shift(lag)\n",
    "\n",
    "    df_features.dropna(inplace=True)\n",
    "    df_features.set_index('date', inplace=True)\n",
    "\n",
    "    X = df_features.drop(columns='y')\n",
    "    y = df_features['y']\n",
    "    X_train = X[X.index <= '2025-03-31']\n",
    "    y_train = y[y.index <= '2025-03-31']\n",
    "    X_test = X[(X.index >= '2025-04-01') & (X.index <= '2025-04-30')]\n",
    "    y_test = y[(y.index >= '2025-04-01') & (y.index <= '2025-04-30')]\n",
    "\n",
    "    if len(X_test) == 0 or len(X_train) == 0:\n",
    "        continue\n",
    "\n",
    "    # Outlier\n",
    "    fecha_outlier = pd.Timestamp('2025-04-21')\n",
    "    if fecha_outlier in y_test.index:\n",
    "        entorno = y_test.loc['2025-04-16':'2025-04-25'].drop(index=fecha_outlier)\n",
    "        y_test.loc[fecha_outlier] = entorno.mean()\n",
    "\n",
    "    # Modelo\n",
    "    model_xgb = XGBRegressor(n_estimators=50, learning_rate=0.1, random_state=42)\n",
    "    model_xgb.fit(X_train, y_train)\n",
    "\n",
    "    # Predicción + IC\n",
    "    pred_xgb = pd.Series(model_xgb.predict(X_test), index=X_test.index)\n",
    "    residuos = y_test - pred_xgb\n",
    "    std_error = residuos.std()\n",
    "    ci_upper = pred_xgb + 1.96 * std_error\n",
    "    ci_lower = np.clip(pred_xgb - 1.96 * std_error, a_min=0, a_max=None)\n",
    "\n",
    "    # Guardar predicciones\n",
    "    df_out = pd.DataFrame({\n",
    "        \"date\": X_test.index,\n",
    "        \"cliente\": \"COLUMBUS+AIRBNB\",\n",
    "        \"idioma\": idioma,\n",
    "        \"real\": y_test.values,\n",
    "        \"pred\": pred_xgb.values,\n",
    "        \"ic_95_inf\": ci_lower,\n",
    "        \"ic_95_sup\": ci_upper\n",
    "    })\n",
    "\n",
    "    df_out.to_csv(os.path.join(output_dir, f\"pred_columbus_airbnb_{idioma}.csv\"), index=False)\n"
   ]
  }
 ],
 "metadata": {
  "kernelspec": {
   "display_name": "proyecto_telefonia",
   "language": "python",
   "name": "python3"
  },
  "language_info": {
   "codemirror_mode": {
    "name": "ipython",
    "version": 3
   },
   "file_extension": ".py",
   "mimetype": "text/x-python",
   "name": "python",
   "nbconvert_exporter": "python",
   "pygments_lexer": "ipython3",
   "version": "3.12.3"
  }
 },
 "nbformat": 4,
 "nbformat_minor": 5
}
